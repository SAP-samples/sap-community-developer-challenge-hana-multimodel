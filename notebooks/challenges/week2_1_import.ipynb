{
 "cells": [
  {
   "cell_type": "markdown",
   "metadata": {},
   "source": [
    "Check [Week 2 challenge description](../../challenges/week2.md) if you missed the required setup steps for this week."
   ]
  },
  {
   "cell_type": "markdown",
   "metadata": {},
   "source": [
    "## Import Vectors trained on the Google News"
   ]
  },
  {
   "cell_type": "code",
   "execution_count": null,
   "metadata": {},
   "outputs": [],
   "source": [
    "from gensim import downloader, models"
   ]
  },
  {
   "cell_type": "markdown",
   "metadata": {},
   "source": [
    "Check the details of the word vevtors model 'word2vec-google-news-300' available in GenSim. \n",
    "\n",
    "It was trained on Google News using about 100 billion words. You can see it stores vectors for 3 million different tokens (words, phrases, parts of words), and it's raw size is quite big: 1.7GB compressed with gzip."
   ]
  },
  {
   "cell_type": "code",
   "execution_count": null,
   "metadata": {},
   "outputs": [],
   "source": [
    "downloader.info('word2vec-google-news-300')"
   ]
  },
  {
   "cell_type": "markdown",
   "metadata": {},
   "source": [
    "Depending on the bandwith of your network it should take about 1-4 minutes to download 1.7GB files with the model below."
   ]
  },
  {
   "cell_type": "code",
   "execution_count": null,
   "metadata": {},
   "outputs": [],
   "source": [
    "%%time\n",
    "mymodel_path = downloader.load('word2vec-google-news-300', return_path=True)"
   ]
  },
  {
   "cell_type": "code",
   "execution_count": null,
   "metadata": {},
   "outputs": [],
   "source": [
    "print(mymodel_path)"
   ]
  },
  {
   "cell_type": "markdown",
   "metadata": {},
   "source": [
    "For this exercise you are not going to load all 3 million records, as it takes too long and might stretch the capacity of your trial account.\n",
    "\n",
    "Therefore you set `mylimit_size` to 100000 to practice. This is sufficient for now. Loading all 3000000 would take about 6 minutes."
   ]
  },
  {
   "cell_type": "code",
   "execution_count": null,
   "metadata": {},
   "outputs": [],
   "source": [
    "mylimit_size=100000\n",
    "mymodel = models.KeyedVectors.load_word2vec_format(mymodel_path, binary=True, limit=mylimit_size)"
   ]
  },
  {
   "cell_type": "markdown",
   "metadata": {},
   "source": [
    "## Convert the model to be loaded into SAP HANA db"
   ]
  },
  {
   "cell_type": "markdown",
   "metadata": {},
   "source": [
    "It should take about 20 seconds to convert the data from the model to the Python list that you can load into the SAP HANA db instance."
   ]
  },
  {
   "cell_type": "code",
   "execution_count": null,
   "metadata": {},
   "outputs": [],
   "source": [
    "%%time\n",
    "myrecords=list()\n",
    "\n",
    "for index, word in enumerate(mymodel.index_to_key):\n",
    "    myrecord=(index, word, str(mymodel[word].tolist()))\n",
    "    myrecords.append(myrecord)"
   ]
  },
  {
   "cell_type": "markdown",
   "metadata": {},
   "source": [
    "## Load the model into SAP HANA's Vector Engine"
   ]
  },
  {
   "cell_type": "code",
   "execution_count": null,
   "metadata": {},
   "outputs": [],
   "source": [
    "import os\n",
    "\n",
    "# https://help.sap.com/docs/SAP_HANA_CLIENT/f1b440ded6144a54ada97ff95dac7adf/2dbfa39ecc364a65a6ab0fea9c8c8bd9.html?#secure-user-store-(hdbuserstore)-environment-variables\n",
    "\n",
    "os.environ[\"HDB_USE_IDENT\"]=os.getenv(\"WORKSPACE_ID\")\n",
    "print(os.getenv(\"HDB_USE_IDENT\"))"
   ]
  },
  {
   "cell_type": "code",
   "execution_count": null,
   "metadata": {},
   "outputs": [],
   "source": [
    "from hana_ml import dataframe as hdf"
   ]
  },
  {
   "cell_type": "code",
   "execution_count": null,
   "metadata": {},
   "outputs": [],
   "source": [
    "myconn=hdf.ConnectionContext(userkey='myDevChallenger')\n",
    "print(\"SAP HANA DB version: \", myconn.hana_version())"
   ]
  },
  {
   "cell_type": "markdown",
   "metadata": {},
   "source": [
    "The statement below will drop the database table `\"GOOGLE_NEWS\"`, if it exists already! \n",
    "\n",
    "If this table does not exist, then it will return just an error message, like `An error occurred: 'invalid table name: GOOGLE_NEWS ...'`"
   ]
  },
  {
   "cell_type": "code",
   "execution_count": null,
   "metadata": {},
   "outputs": [],
   "source": [
    "myconn.connection.setautocommit(True)\n",
    "mycursor = myconn.connection.cursor()\n",
    "\n",
    "try:\n",
    "    mycursor.execute('DROP TABLE \"GOOGLE_NEWS\"')\n",
    "    myconn.connection.commit()\n",
    "\n",
    "except Exception as e:\n",
    "    # Handle any exceptions and possibly rollback the transaction\n",
    "    myconn.connection.rollback()\n",
    "    print(\"An error occurred:\", e)"
   ]
  },
  {
   "cell_type": "markdown",
   "metadata": {},
   "source": [
    "Use hana-ml package's method `create_table()` to create a physical table in your SAP HANA db instance. Please note the use of the data type `REAL_VECTOR(300)` available in SAP HANA database in SAP HANA Cloud starting with the 2024/Q1 release.\n",
    "\n",
    "`300` is the dimnsionality of the vectors to be stored in this column."
   ]
  },
  {
   "cell_type": "code",
   "execution_count": null,
   "metadata": {},
   "outputs": [],
   "source": [
    "myconn.create_table(\n",
    "    \"GOOGLE_NEWS\", \n",
    "    table_structure={\n",
    "        \"ID\":\"INT\", \n",
    "        \"WORD\":\"NVARCHAR(5000)\", \n",
    "        \"WV\": \"REAL_VECTOR(300)\"\n",
    "        }\n",
    "    )"
   ]
  },
  {
   "cell_type": "markdown",
   "metadata": {},
   "source": [
    "You should see `GOOGLE_NEWS` table name returned below."
   ]
  },
  {
   "cell_type": "code",
   "execution_count": null,
   "metadata": {},
   "outputs": [],
   "source": [
    "myconn.get_tables()"
   ]
  },
  {
   "cell_type": "markdown",
   "metadata": {},
   "source": [
    "Use the [`executemany` method](https://help.sap.com/docs/SAP_HANA_CLIENT/f1b440ded6144a54ada97ff95dac7adf/15e46b843c8045ec854d6375790cd504.html) from the SAP HANA Client Interface to insert records from the Python list onject into SAP HANA database table.\n",
    "\n",
    "It might take up to 20 minutes for all 3000000 records to be inserted, but only about 10 seconds for 100000 records."
   ]
  },
  {
   "cell_type": "code",
   "execution_count": null,
   "metadata": {},
   "outputs": [],
   "source": [
    "%%time\n",
    "myconn.connection.setautocommit(False)\n",
    "mycursor = myconn.connection.cursor()\n",
    "\n",
    "try:\n",
    "    mycursor.execute('TRUNCATE TABLE \"GOOGLE_NEWS\"')\n",
    "    # Use the executemany method to insert the data\n",
    "    mycursor.executemany(\n",
    "        operation = '''INSERT INTO \"GOOGLE_NEWS\"(\"ID\", \"WORD\", \"WV\") VALUES (?, ?, TO_REAL_VECTOR(?))''', \n",
    "        list_of_parameters = myrecords\n",
    "    )\n",
    "\n",
    "except Exception as e:\n",
    "    # Handle any exceptions and possibly rollback the transaction\n",
    "    myconn.connection.rollback()\n",
    "    print(\"An error occurred:\", e)"
   ]
  },
  {
   "cell_type": "markdown",
   "metadata": {},
   "source": [
    "Note, that the statement above is not commiting the transaction and records are not visible for other processes in the database table unless the below connection commit is executed."
   ]
  },
  {
   "cell_type": "code",
   "execution_count": null,
   "metadata": {},
   "outputs": [],
   "source": [
    "%%time\n",
    "try:\n",
    "    # Commit the transaction to save the changes\n",
    "    myconn.connection.commit()\n",
    "\n",
    "finally:\n",
    "    # Close the cursor and the connection when done\n",
    "    mycursor.close()"
   ]
  },
  {
   "cell_type": "markdown",
   "metadata": {},
   "source": [
    "## Check tha data in the database table"
   ]
  },
  {
   "cell_type": "code",
   "execution_count": null,
   "metadata": {},
   "outputs": [],
   "source": [
    "myconn.table(\"GOOGLE_NEWS\").count()"
   ]
  },
  {
   "cell_type": "markdown",
   "metadata": {},
   "source": [
    "The statement below will return a preview of a few records with the preview of their vector value."
   ]
  },
  {
   "cell_type": "code",
   "execution_count": null,
   "metadata": {},
   "outputs": [],
   "source": [
    "(\n",
    "    myconn\n",
    "    .table(\"GOOGLE_NEWS\")\n",
    "    .filter(\"UPPER(WORD) LIKE 'DOG'\")\n",
    "    .select('ID', 'WORD', ('TO_NVARCHAR(WV)',\"WORD_VECTOR\"))\n",
    "    .head(3)\n",
    "    .collect()\n",
    ")"
   ]
  },
  {
   "cell_type": "markdown",
   "metadata": {},
   "source": [
    "Look at the vector representation of the word **dog**."
   ]
  },
  {
   "cell_type": "code",
   "execution_count": null,
   "metadata": {},
   "outputs": [],
   "source": [
    "import json\n",
    "\n",
    "json.loads(\n",
    "    myconn\n",
    "    .table(\"GOOGLE_NEWS\")\n",
    "    .filter(\"WORD = 'dog'\")\n",
    "    .select(('TO_NVARCHAR(WV)',\"WORD_VECTOR\"))\n",
    "    .head(1)\n",
    "    .collect()\n",
    "    .WORD_VECTOR[0]\n",
    ")"
   ]
  }
 ],
 "metadata": {
  "kernelspec": {
   "display_name": ".venv",
   "language": "python",
   "name": "python3"
  },
  "language_info": {
   "codemirror_mode": {
    "name": "ipython",
    "version": 3
   },
   "file_extension": ".py",
   "mimetype": "text/x-python",
   "name": "python",
   "nbconvert_exporter": "python",
   "pygments_lexer": "ipython3",
   "version": "3.11.2"
  }
 },
 "nbformat": 4,
 "nbformat_minor": 2
}
