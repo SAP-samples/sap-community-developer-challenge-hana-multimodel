{
 "cells": [
  {
   "cell_type": "markdown",
   "metadata": {},
   "source": [
    "## Connect to your SAP HANA database... \n",
    "\n",
    "...using the user key `myDevChallenger`"
   ]
  },
  {
   "cell_type": "code",
   "execution_count": null,
   "metadata": {},
   "outputs": [],
   "source": [
    "import os \n",
    "\n",
    "# https://help.sap.com/docs/SAP_HANA_CLIENT/f1b440ded6144a54ada97ff95dac7adf/2dbfa39ecc364a65a6ab0fea9c8c8bd9.html?#secure-user-store-(hdbuserstore)-environment-variables\n",
    "\n",
    "os.environ[\"HDB_USE_IDENT\"]=os.getenv(\"WORKSPACE_ID\")\n",
    "print(os.getenv(\"HDB_USE_IDENT\"))"
   ]
  },
  {
   "cell_type": "code",
   "execution_count": null,
   "metadata": {},
   "outputs": [],
   "source": [
    "%load_ext sql"
   ]
  },
  {
   "cell_type": "code",
   "execution_count": null,
   "metadata": {},
   "outputs": [],
   "source": [
    "%sql hana://userkey=myDevChallenger"
   ]
  },
  {
   "cell_type": "markdown",
   "metadata": {},
   "source": [
    "## Closely related words"
   ]
  },
  {
   "cell_type": "markdown",
   "metadata": {},
   "source": [
    "Find 5 closest related words for **cat** and **CAT**"
   ]
  },
  {
   "cell_type": "code",
   "execution_count": null,
   "metadata": {},
   "outputs": [],
   "source": [
    "%%sql \n",
    "\n",
    "SELECT\n",
    "  RN,\n",
    "  WORD,\n",
    "  RELATED_WORD,\n",
    "  SIMILARITY_SCORE,\n",
    "  L2DISTANCE\n",
    "FROM (\n",
    "  SELECT\n",
    "    B.WORD AS WORD,\n",
    "    A.WORD AS RELATED_WORD,\n",
    "    COSINE_SIMILARITY(A.WV, B.WV) AS SIMILARITY_SCORE,\n",
    "    L2DISTANCE(A.WV, B.WV) AS L2DISTANCE,\n",
    "    ROW_NUMBER() OVER (PARTITION BY B.WORD ORDER BY COSINE_SIMILARITY(A.WV, B.WV) DESC) AS RN\n",
    "  FROM\n",
    "    \"DEVCHALLENGER\".\"GOOGLE_NEWS\" A,\n",
    "    (SELECT WV, WORD FROM \"DEVCHALLENGER\".\"GOOGLE_NEWS\" WHERE WORD IN ('cat', 'CAT')) B\n",
    "  WHERE\n",
    "    A.WORD <> B.WORD\n",
    ") AS RankedWords\n",
    "WHERE\n",
    "  RN <= 5\n",
    "ORDER BY\n",
    "  WORD DESC,\n",
    "  SIMILARITY_SCORE DESC;"
   ]
  },
  {
   "cell_type": "markdown",
   "metadata": {},
   "source": [
    "You should see that **cat** is related to pets, and **CAT** is distantly related to some other acronyms. "
   ]
  },
  {
   "cell_type": "markdown",
   "metadata": {},
   "source": [
    "## Analogy queries\n",
    "\n",
    "Having words represented at vectors you can run some vector computations on them, like the analogy queries. \n",
    "\n",
    "The famous example, described as well at Wikipedia, is [\"What is the word related to **queen**, if the word **man** is related to **king**\"](https://en.wikipedia.org/wiki/Word2vec#Preservation_of_semantic_and_syntactic_relationships)."
   ]
  },
  {
   "cell_type": "code",
   "execution_count": null,
   "metadata": {},
   "outputs": [],
   "source": [
    "word1='king'\n",
    "related_word1='man'\n",
    "word2='queen'"
   ]
  },
  {
   "cell_type": "markdown",
   "metadata": {},
   "source": [
    "Notice the mix of Python variables `word1`, `related_word1`, `word2` in the SQL statement below."
   ]
  },
  {
   "cell_type": "code",
   "execution_count": null,
   "metadata": {},
   "outputs": [],
   "source": [
    "%%sql\n",
    "\n",
    "SELECT \"V3\".\"WORD\" AS \"lookup_word\",\n",
    "       \"V4\".\"WORD\" AS \"related_word\",\n",
    "       ((1+ COSINE_SIMILARITY(\"V4\".\"WV\", \"V3\".\"WV\"))/2 * (1+COSINE_SIMILARITY(\"V4\".\"WV\", \"V2\".\"WV\"))/2) / ((1+COSINE_SIMILARITY(\"V4\".\"WV\", \"V1\".\"WV\"))/2 + 0.000001) AS \"3COSMUL_SCORE\"\n",
    "FROM \"DEVCHALLENGER\".\"GOOGLE_NEWS\" AS \"V4\"\n",
    "INNER JOIN \"DEVCHALLENGER\".\"GOOGLE_NEWS\" AS \"V1\" ON \"V1\".\"WORD\"=:word1\n",
    "INNER JOIN \"DEVCHALLENGER\".\"GOOGLE_NEWS\" AS \"V2\" ON \"V2\".\"WORD\"=:related_word1\n",
    "INNER JOIN \"DEVCHALLENGER\".\"GOOGLE_NEWS\" AS \"V3\" ON \"V3\".\"WORD\"=:word2\n",
    "WHERE \"V4\".\"WORD\"<>\"V2\".\"WORD\"\n",
    "  AND \"V4\".\"WORD\"<>\"V1\".\"WORD\"\n",
    "  AND \"V4\".\"WORD\"<>\"V3\".\"WORD\"\n",
    "ORDER BY 3 DESC\n",
    "LIMIT 1"
   ]
  },
  {
   "cell_type": "markdown",
   "metadata": {},
   "source": [
    "Experiement with values of variables `word1`, `related_word1`, `word2` above to come up with your own example of the analogy query results and paste the screenshot in the submission thread: https://community.sap.com/t5/application-development-discussions/submissions-for-quot-sap-hana-cloud-multi-model-quot-developer-challenge/m-p/13728400#M2028459"
   ]
  },
  {
   "cell_type": "markdown",
   "metadata": {},
   "source": [
    "To give you an idea try `Monday`, `one`, `Tuesday` 🤓"
   ]
  },
  {
   "cell_type": "markdown",
   "metadata": {},
   "source": [
    "Remember, that:\n",
    "1. although it was tained on big amount of text, not all relationships, especally for topics having less coverage on Google News, might be capctured,\n",
    "2. you loaded only 100000 tokens (words and phrases) out of 3000000 from the original model, so although it should cover most common words, it might not include all words."
   ]
  },
  {
   "cell_type": "markdown",
   "metadata": {},
   "source": []
  }
 ],
 "metadata": {
  "kernelspec": {
   "display_name": ".venv",
   "language": "python",
   "name": "python3"
  },
  "language_info": {
   "codemirror_mode": {
    "name": "ipython",
    "version": 3
   },
   "file_extension": ".py",
   "mimetype": "text/x-python",
   "name": "python",
   "nbconvert_exporter": "python",
   "pygments_lexer": "ipython3",
   "version": "3.11.2"
  }
 },
 "nbformat": 4,
 "nbformat_minor": 2
}
