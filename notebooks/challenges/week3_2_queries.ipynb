{
 "cells": [
  {
   "cell_type": "markdown",
   "metadata": {},
   "source": [
    "**👉 Note that this notebook has typos and errors that you need to fix as a part of the challenge.**"
   ]
  },
  {
   "cell_type": "markdown",
   "metadata": {},
   "source": [
    "# Connect to SAP HANA\n",
    "\n",
    "...the usual way like you've done so far "
   ]
  },
  {
   "cell_type": "raw",
   "metadata": {
    "vscode": {
     "languageId": "raw"
    }
   },
   "source": [
    "import os"
   ]
  },
  {
   "cell_type": "code",
   "execution_count": null,
   "metadata": {},
   "outputs": [],
   "source": [
    "# Set env variable for SAP HANA user store on a virtual host with a changing host name\n",
    "os.environ[\"HDB_USE_IDENT\"]=os.getenv(\"WORKSPACE_ID\")\n",
    "print(os.getenv(\"HDB_USE_IDENT\"))"
   ]
  },
  {
   "cell_type": "code",
   "execution_count": null,
   "metadata": {},
   "outputs": [],
   "source": [
    "from hana_ml import dataframe as hdf"
   ]
  },
  {
   "cell_type": "code",
   "execution_count": null,
   "metadata": {},
   "outputs": [],
   "source": [
    "myconn=hdf.ConnectionContext(userkey='myDevChallenger')\n",
    "print(\"SAP HANA DB version: \", myconn.hana_version())"
   ]
  },
  {
   "cell_type": "markdown",
   "metadata": {},
   "source": [
    "# Query HANA table with `REAL_VECTOR` to find two similar pets"
   ]
  },
  {
   "cell_type": "code",
   "execution_count": null,
   "metadata": {},
   "outputs": [],
   "source": [
    "source_table='IMAGES'"
   ]
  },
  {
   "cell_type": "markdown",
   "metadata": {},
   "source": [
    "## Closest neighbours (for image embeddings)\n",
    "\n",
    "Use the Vector Engine's [cosine similarity calculation for two vectors](https://help.sap.com/docs/hana-cloud-database/sap-hana-cloud-sap-hana-database-vector-engine-guide/cosine-similarity-063e1366a7d54735b98b2513ea4a88c9) to find a pet similar to a randomly chosen one. \n",
    "\n",
    "Try it a few times to get some different results, but as well check the similarity score returned for these two images."
   ]
  },
  {
   "cell_type": "code",
   "execution_count": null,
   "metadata": {},
   "outputs": [],
   "source": [
    "import random\n",
    "random_record = random.randint(1, myconn.table(table=source_table).count())\n",
    "print(f\"Random record number: {random_record}\")"
   ]
  },
  {
   "cell_type": "code",
   "execution_count": null,
   "metadata": {},
   "outputs": [],
   "source": [
    "\n",
    "sql = f'''\n",
    "SELECT \n",
    "  \"B\".\"NAME\" AS \"BREED\", \n",
    "  \"A\".\"NAME\" AS \"SIMILAR_ONE\", \n",
    "  \"INSANE_SIMILARITY\"(\"A\".\"IV\", \"B\".\"IV\") AS \"SIMILARITY_SCORE\",\n",
    "  \"B\".\"IMAGE_NAME\", \n",
    "  \"A\".\"IMAGE_NAME\" AS \"SIMILAR_IMAGE_NAME\",\n",
    "  \"B\".\"IMAGE\", \n",
    "  \"A\".\"IMAGE\" AS \"SIMILAR_IMAGE\"\n",
    "FROM \n",
    "  {source_table} AS \"A\"\n",
    "INNER JOIN \n",
    "  (SELECT \n",
    "     ROW_NUMBER() OVER () AS \"row_num\", *\n",
    "   FROM {source_table}\n",
    "  ) AS \"B\" \n",
    "ON \"A\".\"NAME\" <> \"B\".\"NAME\"\n",
    "WHERE \"B\".row_num = {random_record}\n",
    "ORDER BY \"SIMILARITY_SCORE\" DESC;\n",
    "'''\n",
    "\n",
    "hdf = myconn.sql(sql)\n",
    "#print(hdf.select_statement)\n",
    "df=hdf.head(3).collect()\n",
    "\n",
    "display(df.iloc[:,:3].style.hide(axis='index'))\n"
   ]
  },
  {
   "cell_type": "markdown",
   "metadata": {},
   "source": [
    "Retrieve Base64-encoded images of thoese two similar pets and display them side-by-side. "
   ]
  },
  {
   "cell_type": "code",
   "execution_count": null,
   "metadata": {},
   "outputs": [],
   "source": [
    "from IPython.display import display, HTML"
   ]
  },
  {
   "cell_type": "code",
   "execution_count": null,
   "metadata": {},
   "outputs": [],
   "source": [
    "# Create HTML for side-by-side display\n",
    "html_code = f\"\"\"\n",
    "<div style=\"display: flex; justify-content: space-around;\">\n",
    "    <div style=\"text-align: center;\">\n",
    "        <img src=\"data:image/webp;base64,{df.IMAGE.iloc[0]}\" width=\"400\"><br>{df.BREED.iloc[0]}\n",
    "    </div>\n",
    "    <div style=\"text-align: center;\">\n",
    "        <img src=\"data:image/webp;base64,{df.SIMILAR_IMAGE.iloc[0]}\" width=\"400\"><br>{df.SIMILAR_ONE.iloc[0]}\n",
    "    </div>\n",
    "</div>\n",
    "\"\"\"\n",
    "\n",
    "# Display the HTML\n",
    "display(HTML(html_code))\n"
   ]
  },
  {
   "cell_type": "markdown",
   "metadata": {},
   "source": [
    "Find the pair of pets you like the most and paste the screenshot in the submission thread for the Week 3: https://community.sap.com/t5/application-development-discussions/submissions-for-quot-sap-hana-cloud-multi-model-quot-developer-challenge/m-p/13736471#M2028617 "
   ]
  },
  {
   "cell_type": "markdown",
   "metadata": {},
   "source": [
    "## Not challenged enough?\n",
    "\n",
    "Here are the two additional ideas for you:\n",
    "\n",
    "1. Find which pet is the least similar to any other pet (where its top similarity score is the lowest).\n",
    "2. Got a pet? Or got a picture of some other cat or dog? Find what the most similar pet in the table \"IMAGES\" is."
   ]
  }
 ],
 "metadata": {
  "kernelspec": {
   "display_name": "env-tf",
   "language": "python",
   "name": "python3"
  },
  "language_info": {
   "codemirror_mode": {
    "name": "ipython",
    "version": 3
   },
   "file_extension": ".py",
   "mimetype": "text/x-python",
   "name": "python",
   "nbconvert_exporter": "python",
   "pygments_lexer": "ipython3",
   "version": "3.11.2"
  }
 },
 "nbformat": 4,
 "nbformat_minor": 2
}
